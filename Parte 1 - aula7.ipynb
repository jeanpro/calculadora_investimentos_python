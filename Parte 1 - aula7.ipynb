{
 "metadata": {
  "language_info": {
   "codemirror_mode": {
    "name": "ipython",
    "version": 3
   },
   "file_extension": ".py",
   "mimetype": "text/x-python",
   "name": "python",
   "nbconvert_exporter": "python",
   "pygments_lexer": "ipython3",
   "version": "3.8.6-candidate"
  },
  "orig_nbformat": 2,
  "kernelspec": {
   "name": "Python 3.8.6 64-bit",
   "display_name": "Python 3.8.6 64-bit",
   "metadata": {
    "interpreter": {
     "hash": "766c483166f6cedcb83694f6e923e7b2f9a8760a5a384c9f4c542e6b3cedcaa6"
    }
   }
  }
 },
 "nbformat": 4,
 "nbformat_minor": 2,
 "cells": [
  {
   "source": [
    "## Calculadora de Investimentos do Aprendiz Moderno\n",
    "\n",
    "Utilizando dados históricos para calcular a performance de uma carteira fictícia"
   ],
   "cell_type": "markdown",
   "metadata": {}
  },
  {
   "cell_type": "code",
   "execution_count": 1,
   "metadata": {},
   "outputs": [],
   "source": [
    "import pandas as pd\n",
    "import yfinance as yf\n",
    "import matplotlib.pyplot as plt\n",
    "import datetime as dt\n",
    "pd.set_option('display.max_rows', 1000)"
   ]
  },
  {
   "cell_type": "code",
   "execution_count": 6,
   "metadata": {},
   "outputs": [],
   "source": [
    "def dividendo_por_acao(lista, data):\n",
    "    dividendo = lista[(lista.index.month == data.month) & (lista.index.year == data.year)]\n",
    "    dividendo = dividendo.sum()\n",
    "    return dividendo\n",
    "\n",
    "\n",
    "def calcula_investimento(ticker, inicio='2010-01-01', termino='2020-01-01', aporte_mensal=1000.0):\n",
    "    lista_de_dividendos = yf.Ticker(ticker).dividends\n",
    "    hist = yf.download(ticker, start=inicio, end=termino, interval='1mo')\n",
    "    hist = hist.dropna()\n",
    "    hist['valor_investido'] = 0.00\n",
    "    hist['aporte_mensal'] = aporte_mensal\n",
    "    hist['aporte_total'] = 0.00\n",
    "    hist['total_acoes'] = 0.00\n",
    "    hist['resto'] = 0.00\n",
    "    hist['dividendos'] = 0.00\n",
    "    total_de_linhas = hist.shape[0]\n",
    "\n",
    "    for i in range(0, total_de_linhas):\n",
    "        linha = hist.iloc[i,:]\n",
    "        data = hist.index[i]\n",
    "        valor_de_fechamento = linha['Adj Close']\n",
    "        if i > 0:\n",
    "            linha_anterior = hist.iloc[i-1, :]\n",
    "            acoes_anterior = linha_anterior['total_acoes']\n",
    "            resto_anterior = linha_anterior['resto']\n",
    "        else:\n",
    "            # i == 0\n",
    "            acoes_anterior = 0.00\n",
    "            resto_anterior = 0.00\n",
    "            \n",
    "        dividendo = dividendo_por_acao(lista_de_dividendos, data)\n",
    "        total_dividendos = dividendo*acoes_anterior\n",
    "        aporte_total = aporte_mensal + resto_anterior + total_dividendos\n",
    "        novas_acoes = int(aporte_total/valor_de_fechamento)\n",
    "        total_acoes = acoes_anterior + novas_acoes\n",
    "        valor_investido = total_acoes*valor_de_fechamento\n",
    "        resto = aporte_total - novas_acoes*valor_de_fechamento\n",
    "        # substituir valores\n",
    "        hist.at[data, 'valor_investido'] = valor_investido\n",
    "        hist.at[data, 'aporte_total'] = aporte_total\n",
    "        hist.at[data, 'total_acoes'] = total_acoes\n",
    "        hist.at[data, 'resto'] = resto\n",
    "        hist.at[data, 'dividendos'] = total_dividendos\n",
    "\n",
    "    return hist"
   ]
  }
 ]
}